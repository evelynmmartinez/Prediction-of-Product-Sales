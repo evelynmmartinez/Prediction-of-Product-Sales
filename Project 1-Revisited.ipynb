{
 "cells": [
  {
   "cell_type": "markdown",
   "id": "f790f795",
   "metadata": {},
   "source": [
    "**Data Visualization**"
   ]
  },
  {
   "cell_type": "markdown",
   "id": "e865df06",
   "metadata": {},
   "source": [
    "## Imports"
   ]
  },
  {
   "cell_type": "code",
   "execution_count": 1,
   "id": "b964c6c0",
   "metadata": {},
   "outputs": [],
   "source": [
    "## Our standard imports\n",
    "import pandas as pd\n",
    "import numpy as np\n",
    "import matplotlib.pyplot as plt\n",
    "import seaborn as sns\n",
    "\n",
    "## Preprocessing tools\n",
    "from sklearn.model_selection import train_test_split\n",
    "from sklearn.compose import ColumnTransformer, make_column_selector\n",
    "from sklearn.pipeline import make_pipeline\n",
    "from sklearn.preprocessing import OneHotEncoder, StandardScaler,OrdinalEncoder\n",
    "from sklearn.impute import SimpleImputer\n",
    "\n",
    "## Models & evaluation metrics\n",
    "from sklearn import metrics\n",
    "from sklearn.linear_model import LinearRegression\n",
    "from sklearn.tree import DecisionTreeRegressor\n",
    "from sklearn.ensemble import RandomForestRegressor\n",
    "\n",
    "from sklearn import set_config\n",
    "set_config(transform_output='pandas')\n",
    "\n",
    "import joblib\n",
    "\n",
    "## setting random state for reproducibility\n",
    "SEED = 321\n",
    "np.random.seed(SEED)\n",
    "## Matplotlib style\n",
    "fav_style = ('ggplot','tableau-colorblind10')\n",
    "fav_context  ={'context':'notebook', 'font_scale':1.1}\n",
    "plt.style.use(fav_style)\n",
    "sns.set_context(**fav_context)\n",
    "plt.rcParams['savefig.transparent'] = False\n",
    "plt.rcParams['savefig.bbox'] = 'tight'"
   ]
  },
  {
   "cell_type": "code",
   "execution_count": 2,
   "id": "cfd9509c",
   "metadata": {},
   "outputs": [
    {
     "data": {
      "text/plain": [
       "['sales_predictions_2023.csv']"
      ]
     },
     "execution_count": 2,
     "metadata": {},
     "output_type": "execute_result"
    }
   ],
   "source": [
    "import os\n",
    "os.makedirs('Data/',exist_ok=True) \n",
    "os.listdir(\"Data/\")"
   ]
  },
  {
   "cell_type": "code",
   "execution_count": 3,
   "id": "082f9753",
   "metadata": {},
   "outputs": [],
   "source": [
    "#FUNCTION\n",
    "\n",
    "def evaluate_regression(model, X_train,y_train, X_test, y_test,for_slides=True): \n",
    "    \"\"\"Evaluates a scikit learn regression model using r-squared and RMSE\n",
    "    FOR SLIDES VERS DOES MULTIPLE PRINT STATEMENTS FOR VERTICAL DISPLAY OF INFO\"\"\"\n",
    "    \n",
    "    ## Training Data\n",
    "    y_pred_train = model.predict(X_train)\n",
    "    r2_train = metrics.r2_score(y_train, y_pred_train)\n",
    "    rmse_train = metrics.mean_squared_error(y_train, y_pred_train, \n",
    "                                            squared=False)\n",
    "    mae_train = metrics.mean_absolute_error(y_train, y_pred_train)\n",
    "    \n",
    "\n",
    "    ## Test Data\n",
    "    y_pred_test = model.predict(X_test)\n",
    "    r2_test = metrics.r2_score(y_test, y_pred_test)\n",
    "    rmse_test = metrics.mean_squared_error(y_test, y_pred_test, \n",
    "                                            squared=False)\n",
    "    mae_test = metrics.mean_absolute_error(y_test, y_pred_test)\n",
    "    \n",
    "    if for_slides:\n",
    "        df_version =[['Split','R^2','MAE','RMSE']]\n",
    "        df_version.append(['Train',r2_train, mae_train, rmse_train])\n",
    "        df_version.append(['Test',r2_test, mae_test, rmse_test])\n",
    "        df_results = pd.DataFrame(df_version[1:], columns=df_version[0])\n",
    "        df_results = df_results.round(2)\n",
    "        display(df_results.style.hide(axis='index').format(precision=2, thousands=','))\n",
    "        \n",
    "    else: \n",
    "        print(f\"Training Data:\\tR^2 = {r2_train:,.2f}\\tRMSE = {rmse_train:,.2f}\\tMAE = {mae_train:,.2f}\")\n",
    "        print(f\"Test Data:\\tR^2 = {r2_test:,.2f}\\tRMSE = {rmse_test:,.2f}\\tMAE = {mae_test:,.2f}\")"
   ]
  },
  {
   "cell_type": "markdown",
   "id": "b6d490fa",
   "metadata": {},
   "source": [
    "## Loading Data \n",
    "\n",
    "\n",
    "initial inspection and cleaning"
   ]
  },
  {
   "cell_type": "code",
   "execution_count": 4,
   "id": "70411579",
   "metadata": {},
   "outputs": [
    {
     "data": {
      "text/html": [
       "<div>\n",
       "<style scoped>\n",
       "    .dataframe tbody tr th:only-of-type {\n",
       "        vertical-align: middle;\n",
       "    }\n",
       "\n",
       "    .dataframe tbody tr th {\n",
       "        vertical-align: top;\n",
       "    }\n",
       "\n",
       "    .dataframe thead th {\n",
       "        text-align: right;\n",
       "    }\n",
       "</style>\n",
       "<table border=\"1\" class=\"dataframe\">\n",
       "  <thead>\n",
       "    <tr style=\"text-align: right;\">\n",
       "      <th></th>\n",
       "      <th>Item_Identifier</th>\n",
       "      <th>Item_Weight</th>\n",
       "      <th>Item_Fat_Content</th>\n",
       "      <th>Item_Visibility</th>\n",
       "      <th>Item_Type</th>\n",
       "      <th>Item_MRP</th>\n",
       "      <th>Outlet_Identifier</th>\n",
       "      <th>Outlet_Establishment_Year</th>\n",
       "      <th>Outlet_Size</th>\n",
       "      <th>Outlet_Location_Type</th>\n",
       "      <th>Outlet_Type</th>\n",
       "      <th>Item_Outlet_Sales</th>\n",
       "    </tr>\n",
       "  </thead>\n",
       "  <tbody>\n",
       "    <tr>\n",
       "      <th>0</th>\n",
       "      <td>FDA15</td>\n",
       "      <td>9.30</td>\n",
       "      <td>Low Fat</td>\n",
       "      <td>0.016047</td>\n",
       "      <td>Dairy</td>\n",
       "      <td>249.8092</td>\n",
       "      <td>OUT049</td>\n",
       "      <td>1999</td>\n",
       "      <td>Medium</td>\n",
       "      <td>Tier 1</td>\n",
       "      <td>Supermarket Type1</td>\n",
       "      <td>3735.1380</td>\n",
       "    </tr>\n",
       "    <tr>\n",
       "      <th>1</th>\n",
       "      <td>DRC01</td>\n",
       "      <td>5.92</td>\n",
       "      <td>Regular</td>\n",
       "      <td>0.019278</td>\n",
       "      <td>Soft Drinks</td>\n",
       "      <td>48.2692</td>\n",
       "      <td>OUT018</td>\n",
       "      <td>2009</td>\n",
       "      <td>Medium</td>\n",
       "      <td>Tier 3</td>\n",
       "      <td>Supermarket Type2</td>\n",
       "      <td>443.4228</td>\n",
       "    </tr>\n",
       "    <tr>\n",
       "      <th>2</th>\n",
       "      <td>FDN15</td>\n",
       "      <td>17.50</td>\n",
       "      <td>Low Fat</td>\n",
       "      <td>0.016760</td>\n",
       "      <td>Meat</td>\n",
       "      <td>141.6180</td>\n",
       "      <td>OUT049</td>\n",
       "      <td>1999</td>\n",
       "      <td>Medium</td>\n",
       "      <td>Tier 1</td>\n",
       "      <td>Supermarket Type1</td>\n",
       "      <td>2097.2700</td>\n",
       "    </tr>\n",
       "    <tr>\n",
       "      <th>3</th>\n",
       "      <td>FDX07</td>\n",
       "      <td>19.20</td>\n",
       "      <td>Regular</td>\n",
       "      <td>0.000000</td>\n",
       "      <td>Fruits and Vegetables</td>\n",
       "      <td>182.0950</td>\n",
       "      <td>OUT010</td>\n",
       "      <td>1998</td>\n",
       "      <td>NaN</td>\n",
       "      <td>Tier 3</td>\n",
       "      <td>Grocery Store</td>\n",
       "      <td>732.3800</td>\n",
       "    </tr>\n",
       "    <tr>\n",
       "      <th>4</th>\n",
       "      <td>NCD19</td>\n",
       "      <td>8.93</td>\n",
       "      <td>Low Fat</td>\n",
       "      <td>0.000000</td>\n",
       "      <td>Household</td>\n",
       "      <td>53.8614</td>\n",
       "      <td>OUT013</td>\n",
       "      <td>1987</td>\n",
       "      <td>High</td>\n",
       "      <td>Tier 3</td>\n",
       "      <td>Supermarket Type1</td>\n",
       "      <td>994.7052</td>\n",
       "    </tr>\n",
       "  </tbody>\n",
       "</table>\n",
       "</div>"
      ],
      "text/plain": [
       "  Item_Identifier  Item_Weight Item_Fat_Content  Item_Visibility  \\\n",
       "0           FDA15         9.30          Low Fat         0.016047   \n",
       "1           DRC01         5.92          Regular         0.019278   \n",
       "2           FDN15        17.50          Low Fat         0.016760   \n",
       "3           FDX07        19.20          Regular         0.000000   \n",
       "4           NCD19         8.93          Low Fat         0.000000   \n",
       "\n",
       "               Item_Type  Item_MRP Outlet_Identifier  \\\n",
       "0                  Dairy  249.8092            OUT049   \n",
       "1            Soft Drinks   48.2692            OUT018   \n",
       "2                   Meat  141.6180            OUT049   \n",
       "3  Fruits and Vegetables  182.0950            OUT010   \n",
       "4              Household   53.8614            OUT013   \n",
       "\n",
       "   Outlet_Establishment_Year Outlet_Size Outlet_Location_Type  \\\n",
       "0                       1999      Medium               Tier 1   \n",
       "1                       2009      Medium               Tier 3   \n",
       "2                       1999      Medium               Tier 1   \n",
       "3                       1998         NaN               Tier 3   \n",
       "4                       1987        High               Tier 3   \n",
       "\n",
       "         Outlet_Type  Item_Outlet_Sales  \n",
       "0  Supermarket Type1          3735.1380  \n",
       "1  Supermarket Type2           443.4228  \n",
       "2  Supermarket Type1          2097.2700  \n",
       "3      Grocery Store           732.3800  \n",
       "4  Supermarket Type1           994.7052  "
      ]
     },
     "execution_count": 4,
     "metadata": {},
     "output_type": "execute_result"
    }
   ],
   "source": [
    "df = pd.read_csv('Data/sales_predictions_2023.csv')\n",
    "df.head()"
   ]
  },
  {
   "cell_type": "code",
   "execution_count": 5,
   "id": "a36af63c",
   "metadata": {},
   "outputs": [],
   "source": [
    "#copy of data\n",
    "ml_df = df.copy()"
   ]
  },
  {
   "cell_type": "code",
   "execution_count": 6,
   "id": "107ed8d8",
   "metadata": {},
   "outputs": [
    {
     "data": {
      "text/plain": [
       "Item_Identifier                 0\n",
       "Item_Weight                  1463\n",
       "Item_Fat_Content                0\n",
       "Item_Visibility                 0\n",
       "Item_Type                       0\n",
       "Item_MRP                        0\n",
       "Outlet_Identifier               0\n",
       "Outlet_Establishment_Year       0\n",
       "Outlet_Size                  2410\n",
       "Outlet_Location_Type            0\n",
       "Outlet_Type                     0\n",
       "Item_Outlet_Sales               0\n",
       "dtype: int64"
      ]
     },
     "execution_count": 6,
     "metadata": {},
     "output_type": "execute_result"
    }
   ],
   "source": [
    "ml_df.isna().sum()"
   ]
  },
  {
   "cell_type": "code",
   "execution_count": 7,
   "id": "6059e927",
   "metadata": {},
   "outputs": [],
   "source": [
    "#Columns with high cardinality will be dropped from df\n",
    "high_card =['Item_Identifier','Outlet_Identifier']\n",
    "ml_df = df.drop(columns=high_card, axis=1)"
   ]
  },
  {
   "cell_type": "code",
   "execution_count": 8,
   "id": "dc1e71b1",
   "metadata": {
    "scrolled": true
   },
   "outputs": [
    {
     "data": {
      "text/plain": [
       "Index(['Item_Fat_Content', 'Item_Type', 'Outlet_Size', 'Outlet_Location_Type',\n",
       "       'Outlet_Type'],\n",
       "      dtype='object')"
      ]
     },
     "execution_count": 8,
     "metadata": {},
     "output_type": "execute_result"
    }
   ],
   "source": [
    "obj_col = ml_df.select_dtypes(\"object\").columns\n",
    "obj_col"
   ]
  },
  {
   "cell_type": "code",
   "execution_count": 9,
   "id": "00b64d59",
   "metadata": {},
   "outputs": [
    {
     "data": {
      "text/plain": [
       "Index(['Item_Weight', 'Item_Visibility', 'Item_MRP',\n",
       "       'Outlet_Establishment_Year', 'Item_Outlet_Sales'],\n",
       "      dtype='object')"
      ]
     },
     "execution_count": 9,
     "metadata": {},
     "output_type": "execute_result"
    }
   ],
   "source": [
    "num_col = ml_df.select_dtypes(\"number\").columns\n",
    "num_col"
   ]
  },
  {
   "cell_type": "code",
   "execution_count": 10,
   "id": "52ab87be",
   "metadata": {},
   "outputs": [
    {
     "data": {
      "text/plain": [
       "Low Fat    5517\n",
       "Regular    3006\n",
       "Name: Item_Fat_Content, dtype: int64"
      ]
     },
     "execution_count": 10,
     "metadata": {},
     "output_type": "execute_result"
    }
   ],
   "source": [
    "# Standardize the values in the Central column\n",
    "ml_df['Item_Fat_Content'] = ml_df['Item_Fat_Content'].replace({'LF':\"Low Fat\", \"reg\":\"Regular\", \"low fat\":\"Low Fat\"})\n",
    "ml_df['Item_Fat_Content'].value_counts()"
   ]
  },
  {
   "cell_type": "code",
   "execution_count": 11,
   "id": "050402fa",
   "metadata": {},
   "outputs": [
    {
     "name": "stdout",
     "output_type": "stream",
     "text": [
      "Value Counts for Item_Fat_Content\n",
      "Low Fat    5517\n",
      "Regular    3006\n",
      "Name: Item_Fat_Content, dtype: int64\n",
      "\n",
      "\n",
      "Value Counts for Item_Type\n",
      "Fruits and Vegetables    1232\n",
      "Snack Foods              1200\n",
      "Household                 910\n",
      "Frozen Foods              856\n",
      "Dairy                     682\n",
      "Canned                    649\n",
      "Baking Goods              648\n",
      "Health and Hygiene        520\n",
      "Soft Drinks               445\n",
      "Meat                      425\n",
      "Breads                    251\n",
      "Hard Drinks               214\n",
      "Others                    169\n",
      "Starchy Foods             148\n",
      "Breakfast                 110\n",
      "Seafood                    64\n",
      "Name: Item_Type, dtype: int64\n",
      "\n",
      "\n",
      "Value Counts for Outlet_Size\n",
      "Medium    2793\n",
      "Small     2388\n",
      "High       932\n",
      "Name: Outlet_Size, dtype: int64\n",
      "\n",
      "\n",
      "Value Counts for Outlet_Location_Type\n",
      "Tier 3    3350\n",
      "Tier 2    2785\n",
      "Tier 1    2388\n",
      "Name: Outlet_Location_Type, dtype: int64\n",
      "\n",
      "\n",
      "Value Counts for Outlet_Type\n",
      "Supermarket Type1    5577\n",
      "Grocery Store        1083\n",
      "Supermarket Type3     935\n",
      "Supermarket Type2     928\n",
      "Name: Outlet_Type, dtype: int64\n",
      "\n",
      "\n"
     ]
    }
   ],
   "source": [
    "for col in obj_col:\n",
    "  print(f\"Value Counts for {col}\")\n",
    "  print(ml_df[col].value_counts())\n",
    "  print('\\n')"
   ]
  },
  {
   "cell_type": "code",
   "execution_count": 12,
   "id": "8cc67914",
   "metadata": {},
   "outputs": [
    {
     "name": "stdout",
     "output_type": "stream",
     "text": [
      "<class 'pandas.core.frame.DataFrame'>\n",
      "RangeIndex: 8523 entries, 0 to 8522\n",
      "Data columns (total 10 columns):\n",
      " #   Column                     Non-Null Count  Dtype  \n",
      "---  ------                     --------------  -----  \n",
      " 0   Item_Weight                7060 non-null   float64\n",
      " 1   Item_Fat_Content           8523 non-null   object \n",
      " 2   Item_Visibility            8523 non-null   float64\n",
      " 3   Item_Type                  8523 non-null   object \n",
      " 4   Item_MRP                   8523 non-null   float64\n",
      " 5   Outlet_Establishment_Year  8523 non-null   int64  \n",
      " 6   Outlet_Size                6113 non-null   object \n",
      " 7   Outlet_Location_Type       8523 non-null   object \n",
      " 8   Outlet_Type                8523 non-null   object \n",
      " 9   Item_Outlet_Sales          8523 non-null   float64\n",
      "dtypes: float64(4), int64(1), object(5)\n",
      "memory usage: 666.0+ KB\n"
     ]
    }
   ],
   "source": [
    "ml_df.info()"
   ]
  },
  {
   "cell_type": "markdown",
   "id": "c9d62500",
   "metadata": {},
   "source": [
    "## ML\n",
    "\n",
    "Defining X & Y, preprocessing data"
   ]
  },
  {
   "cell_type": "code",
   "execution_count": 13,
   "id": "da70b359",
   "metadata": {},
   "outputs": [
    {
     "data": {
      "text/html": [
       "<div>\n",
       "<style scoped>\n",
       "    .dataframe tbody tr th:only-of-type {\n",
       "        vertical-align: middle;\n",
       "    }\n",
       "\n",
       "    .dataframe tbody tr th {\n",
       "        vertical-align: top;\n",
       "    }\n",
       "\n",
       "    .dataframe thead th {\n",
       "        text-align: right;\n",
       "    }\n",
       "</style>\n",
       "<table border=\"1\" class=\"dataframe\">\n",
       "  <thead>\n",
       "    <tr style=\"text-align: right;\">\n",
       "      <th></th>\n",
       "      <th>Item_Weight</th>\n",
       "      <th>Item_Fat_Content</th>\n",
       "      <th>Item_Visibility</th>\n",
       "      <th>Item_Type</th>\n",
       "      <th>Item_MRP</th>\n",
       "      <th>Outlet_Establishment_Year</th>\n",
       "      <th>Outlet_Size</th>\n",
       "      <th>Outlet_Location_Type</th>\n",
       "      <th>Outlet_Type</th>\n",
       "    </tr>\n",
       "  </thead>\n",
       "  <tbody>\n",
       "    <tr>\n",
       "      <th>8269</th>\n",
       "      <td>7.220</td>\n",
       "      <td>Regular</td>\n",
       "      <td>0.064142</td>\n",
       "      <td>Baking Goods</td>\n",
       "      <td>61.2510</td>\n",
       "      <td>1998</td>\n",
       "      <td>NaN</td>\n",
       "      <td>Tier 3</td>\n",
       "      <td>Grocery Store</td>\n",
       "    </tr>\n",
       "    <tr>\n",
       "      <th>7604</th>\n",
       "      <td>6.135</td>\n",
       "      <td>Low Fat</td>\n",
       "      <td>0.079294</td>\n",
       "      <td>Soft Drinks</td>\n",
       "      <td>111.2860</td>\n",
       "      <td>2009</td>\n",
       "      <td>Medium</td>\n",
       "      <td>Tier 3</td>\n",
       "      <td>Supermarket Type2</td>\n",
       "    </tr>\n",
       "    <tr>\n",
       "      <th>2762</th>\n",
       "      <td>12.150</td>\n",
       "      <td>Low Fat</td>\n",
       "      <td>0.028593</td>\n",
       "      <td>Household</td>\n",
       "      <td>151.0708</td>\n",
       "      <td>2004</td>\n",
       "      <td>Small</td>\n",
       "      <td>Tier 2</td>\n",
       "      <td>Supermarket Type1</td>\n",
       "    </tr>\n",
       "    <tr>\n",
       "      <th>6464</th>\n",
       "      <td>5.945</td>\n",
       "      <td>Low Fat</td>\n",
       "      <td>0.093009</td>\n",
       "      <td>Household</td>\n",
       "      <td>127.8652</td>\n",
       "      <td>2004</td>\n",
       "      <td>Small</td>\n",
       "      <td>Tier 2</td>\n",
       "      <td>Supermarket Type1</td>\n",
       "    </tr>\n",
       "    <tr>\n",
       "      <th>4707</th>\n",
       "      <td>18.200</td>\n",
       "      <td>Regular</td>\n",
       "      <td>0.066285</td>\n",
       "      <td>Fruits and Vegetables</td>\n",
       "      <td>247.2092</td>\n",
       "      <td>2004</td>\n",
       "      <td>Small</td>\n",
       "      <td>Tier 2</td>\n",
       "      <td>Supermarket Type1</td>\n",
       "    </tr>\n",
       "  </tbody>\n",
       "</table>\n",
       "</div>"
      ],
      "text/plain": [
       "      Item_Weight Item_Fat_Content  Item_Visibility              Item_Type  \\\n",
       "8269        7.220          Regular         0.064142           Baking Goods   \n",
       "7604        6.135          Low Fat         0.079294            Soft Drinks   \n",
       "2762       12.150          Low Fat         0.028593              Household   \n",
       "6464        5.945          Low Fat         0.093009              Household   \n",
       "4707       18.200          Regular         0.066285  Fruits and Vegetables   \n",
       "\n",
       "      Item_MRP  Outlet_Establishment_Year Outlet_Size Outlet_Location_Type  \\\n",
       "8269   61.2510                       1998         NaN               Tier 3   \n",
       "7604  111.2860                       2009      Medium               Tier 3   \n",
       "2762  151.0708                       2004       Small               Tier 2   \n",
       "6464  127.8652                       2004       Small               Tier 2   \n",
       "4707  247.2092                       2004       Small               Tier 2   \n",
       "\n",
       "            Outlet_Type  \n",
       "8269      Grocery Store  \n",
       "7604  Supermarket Type2  \n",
       "2762  Supermarket Type1  \n",
       "6464  Supermarket Type1  \n",
       "4707  Supermarket Type1  "
      ]
     },
     "execution_count": 13,
     "metadata": {},
     "output_type": "execute_result"
    }
   ],
   "source": [
    "target = 'Item_Outlet_Sales'\n",
    "X = ml_df.drop(columns=[target])\n",
    "y = ml_df[target]\n",
    "\n",
    "# Split train and test\n",
    "X_train, X_test, y_train, y_test = train_test_split(X, y, random_state=SEED)\n",
    "X_train.head()"
   ]
  },
  {
   "cell_type": "code",
   "execution_count": 14,
   "id": "58b5c0b3",
   "metadata": {},
   "outputs": [
    {
     "data": {
      "text/plain": [
       "(6392, 9)"
      ]
     },
     "execution_count": 14,
     "metadata": {},
     "output_type": "execute_result"
    }
   ],
   "source": [
    "X_train.shape"
   ]
  },
  {
   "cell_type": "code",
   "execution_count": 15,
   "id": "15429f2d",
   "metadata": {},
   "outputs": [
    {
     "data": {
      "text/plain": [
       "(2131, 9)"
      ]
     },
     "execution_count": 15,
     "metadata": {},
     "output_type": "execute_result"
    }
   ],
   "source": [
    "X_test.shape"
   ]
  },
  {
   "cell_type": "code",
   "execution_count": 16,
   "id": "a118866d",
   "metadata": {},
   "outputs": [
    {
     "data": {
      "text/plain": [
       "Item_Weight                  float64\n",
       "Item_Fat_Content              object\n",
       "Item_Visibility              float64\n",
       "Item_Type                     object\n",
       "Item_MRP                     float64\n",
       "Outlet_Establishment_Year      int64\n",
       "Outlet_Size                   object\n",
       "Outlet_Location_Type          object\n",
       "Outlet_Type                   object\n",
       "dtype: object"
      ]
     },
     "execution_count": 16,
     "metadata": {},
     "output_type": "execute_result"
    }
   ],
   "source": [
    "X_train.dtypes"
   ]
  },
  {
   "cell_type": "markdown",
   "id": "707231da",
   "metadata": {},
   "source": [
    "### Numeric"
   ]
  },
  {
   "cell_type": "code",
   "execution_count": 17,
   "id": "cb543cd7",
   "metadata": {},
   "outputs": [
    {
     "name": "stdout",
     "output_type": "stream",
     "text": [
      "Numeric Columns: Index(['Item_Weight', 'Item_Visibility', 'Item_MRP',\n",
      "       'Outlet_Establishment_Year'],\n",
      "      dtype='object')\n"
     ]
    },
    {
     "data": {
      "text/plain": [
       "('numeric',\n",
       " Pipeline(steps=[('simpleimputer', SimpleImputer())]),\n",
       " Index(['Item_Weight', 'Item_Visibility', 'Item_MRP',\n",
       "        'Outlet_Establishment_Year'],\n",
       "       dtype='object'))"
      ]
     },
     "execution_count": 17,
     "metadata": {},
     "output_type": "execute_result"
    }
   ],
   "source": [
    "num_cols = X_train.select_dtypes('number').columns\n",
    "print(\"Numeric Columns:\", num_cols)\n",
    "\n",
    "\n",
    "mean_imputer = SimpleImputer(strategy='mean')\n",
    "\n",
    "\n",
    "num_pipeline = make_pipeline(mean_imputer)\n",
    "num_pipeline\n",
    "\n",
    "numeric_tuple = ('numeric',num_pipeline, num_cols)\n",
    "numeric_tuple"
   ]
  },
  {
   "cell_type": "markdown",
   "id": "9b16a97c",
   "metadata": {},
   "source": [
    "### Ordinal"
   ]
  },
  {
   "cell_type": "code",
   "execution_count": 18,
   "id": "fa58ad8f",
   "metadata": {},
   "outputs": [
    {
     "data": {
      "text/html": [
       "<style>#sk-container-id-1 {color: black;background-color: white;}#sk-container-id-1 pre{padding: 0;}#sk-container-id-1 div.sk-toggleable {background-color: white;}#sk-container-id-1 label.sk-toggleable__label {cursor: pointer;display: block;width: 100%;margin-bottom: 0;padding: 0.3em;box-sizing: border-box;text-align: center;}#sk-container-id-1 label.sk-toggleable__label-arrow:before {content: \"▸\";float: left;margin-right: 0.25em;color: #696969;}#sk-container-id-1 label.sk-toggleable__label-arrow:hover:before {color: black;}#sk-container-id-1 div.sk-estimator:hover label.sk-toggleable__label-arrow:before {color: black;}#sk-container-id-1 div.sk-toggleable__content {max-height: 0;max-width: 0;overflow: hidden;text-align: left;background-color: #f0f8ff;}#sk-container-id-1 div.sk-toggleable__content pre {margin: 0.2em;color: black;border-radius: 0.25em;background-color: #f0f8ff;}#sk-container-id-1 input.sk-toggleable__control:checked~div.sk-toggleable__content {max-height: 200px;max-width: 100%;overflow: auto;}#sk-container-id-1 input.sk-toggleable__control:checked~label.sk-toggleable__label-arrow:before {content: \"▾\";}#sk-container-id-1 div.sk-estimator input.sk-toggleable__control:checked~label.sk-toggleable__label {background-color: #d4ebff;}#sk-container-id-1 div.sk-label input.sk-toggleable__control:checked~label.sk-toggleable__label {background-color: #d4ebff;}#sk-container-id-1 input.sk-hidden--visually {border: 0;clip: rect(1px 1px 1px 1px);clip: rect(1px, 1px, 1px, 1px);height: 1px;margin: -1px;overflow: hidden;padding: 0;position: absolute;width: 1px;}#sk-container-id-1 div.sk-estimator {font-family: monospace;background-color: #f0f8ff;border: 1px dotted black;border-radius: 0.25em;box-sizing: border-box;margin-bottom: 0.5em;}#sk-container-id-1 div.sk-estimator:hover {background-color: #d4ebff;}#sk-container-id-1 div.sk-parallel-item::after {content: \"\";width: 100%;border-bottom: 1px solid gray;flex-grow: 1;}#sk-container-id-1 div.sk-label:hover label.sk-toggleable__label {background-color: #d4ebff;}#sk-container-id-1 div.sk-serial::before {content: \"\";position: absolute;border-left: 1px solid gray;box-sizing: border-box;top: 0;bottom: 0;left: 50%;z-index: 0;}#sk-container-id-1 div.sk-serial {display: flex;flex-direction: column;align-items: center;background-color: white;padding-right: 0.2em;padding-left: 0.2em;position: relative;}#sk-container-id-1 div.sk-item {position: relative;z-index: 1;}#sk-container-id-1 div.sk-parallel {display: flex;align-items: stretch;justify-content: center;background-color: white;position: relative;}#sk-container-id-1 div.sk-item::before, #sk-container-id-1 div.sk-parallel-item::before {content: \"\";position: absolute;border-left: 1px solid gray;box-sizing: border-box;top: 0;bottom: 0;left: 50%;z-index: -1;}#sk-container-id-1 div.sk-parallel-item {display: flex;flex-direction: column;z-index: 1;position: relative;background-color: white;}#sk-container-id-1 div.sk-parallel-item:first-child::after {align-self: flex-end;width: 50%;}#sk-container-id-1 div.sk-parallel-item:last-child::after {align-self: flex-start;width: 50%;}#sk-container-id-1 div.sk-parallel-item:only-child::after {width: 0;}#sk-container-id-1 div.sk-dashed-wrapped {border: 1px dashed gray;margin: 0 0.4em 0.5em 0.4em;box-sizing: border-box;padding-bottom: 0.4em;background-color: white;}#sk-container-id-1 div.sk-label label {font-family: monospace;font-weight: bold;display: inline-block;line-height: 1.2em;}#sk-container-id-1 div.sk-label-container {text-align: center;}#sk-container-id-1 div.sk-container {/* jupyter's `normalize.less` sets `[hidden] { display: none; }` but bootstrap.min.css set `[hidden] { display: none !important; }` so we also need the `!important` here to be able to override the default hidden behavior on the sphinx rendered scikit-learn.org. See: https://github.com/scikit-learn/scikit-learn/issues/21755 */display: inline-block !important;position: relative;}#sk-container-id-1 div.sk-text-repr-fallback {display: none;}</style><div id=\"sk-container-id-1\" class=\"sk-top-container\"><div class=\"sk-text-repr-fallback\"><pre>Pipeline(steps=[(&#x27;simpleimputer&#x27;, SimpleImputer(strategy=&#x27;most_frequent&#x27;)),\n",
       "                (&#x27;ordinalencoder&#x27;,\n",
       "                 OrdinalEncoder(categories=[[&#x27;Small&#x27;, &#x27;Medium&#x27;, &#x27;High&#x27;],\n",
       "                                            [&#x27;Tier 1&#x27;, &#x27;Tier 2&#x27;, &#x27;Tier 3&#x27;]]))])</pre><b>In a Jupyter environment, please rerun this cell to show the HTML representation or trust the notebook. <br />On GitHub, the HTML representation is unable to render, please try loading this page with nbviewer.org.</b></div><div class=\"sk-container\" hidden><div class=\"sk-item sk-dashed-wrapped\"><div class=\"sk-label-container\"><div class=\"sk-label sk-toggleable\"><input class=\"sk-toggleable__control sk-hidden--visually\" id=\"sk-estimator-id-1\" type=\"checkbox\" ><label for=\"sk-estimator-id-1\" class=\"sk-toggleable__label sk-toggleable__label-arrow\">Pipeline</label><div class=\"sk-toggleable__content\"><pre>Pipeline(steps=[(&#x27;simpleimputer&#x27;, SimpleImputer(strategy=&#x27;most_frequent&#x27;)),\n",
       "                (&#x27;ordinalencoder&#x27;,\n",
       "                 OrdinalEncoder(categories=[[&#x27;Small&#x27;, &#x27;Medium&#x27;, &#x27;High&#x27;],\n",
       "                                            [&#x27;Tier 1&#x27;, &#x27;Tier 2&#x27;, &#x27;Tier 3&#x27;]]))])</pre></div></div></div><div class=\"sk-serial\"><div class=\"sk-item\"><div class=\"sk-estimator sk-toggleable\"><input class=\"sk-toggleable__control sk-hidden--visually\" id=\"sk-estimator-id-2\" type=\"checkbox\" ><label for=\"sk-estimator-id-2\" class=\"sk-toggleable__label sk-toggleable__label-arrow\">SimpleImputer</label><div class=\"sk-toggleable__content\"><pre>SimpleImputer(strategy=&#x27;most_frequent&#x27;)</pre></div></div></div><div class=\"sk-item\"><div class=\"sk-estimator sk-toggleable\"><input class=\"sk-toggleable__control sk-hidden--visually\" id=\"sk-estimator-id-3\" type=\"checkbox\" ><label for=\"sk-estimator-id-3\" class=\"sk-toggleable__label sk-toggleable__label-arrow\">OrdinalEncoder</label><div class=\"sk-toggleable__content\"><pre>OrdinalEncoder(categories=[[&#x27;Small&#x27;, &#x27;Medium&#x27;, &#x27;High&#x27;],\n",
       "                           [&#x27;Tier 1&#x27;, &#x27;Tier 2&#x27;, &#x27;Tier 3&#x27;]])</pre></div></div></div></div></div></div></div>"
      ],
      "text/plain": [
       "Pipeline(steps=[('simpleimputer', SimpleImputer(strategy='most_frequent')),\n",
       "                ('ordinalencoder',\n",
       "                 OrdinalEncoder(categories=[['Small', 'Medium', 'High'],\n",
       "                                            ['Tier 1', 'Tier 2', 'Tier 3']]))])"
      ]
     },
     "execution_count": 18,
     "metadata": {},
     "output_type": "execute_result"
    }
   ],
   "source": [
    "ord_cols = ['Outlet_Size', 'Outlet_Location_Type']\n",
    "\n",
    "Outlet_Size_list = ['Small', 'Medium', 'High']\n",
    "Outlet_Location_list = ['Tier 1', 'Tier 2', 'Tier 3']\n",
    "\n",
    "ord = OrdinalEncoder(categories=[Outlet_Size_list,Outlet_Location_list])\n",
    "freq_imputer = SimpleImputer(strategy='most_frequent')\n",
    "\n",
    "ord_pipeline = make_pipeline(freq_imputer, ord)\n",
    "\n",
    "ord_tuple = ('ordinal',ord_pipeline, ord_cols)\n",
    "ord_pipeline"
   ]
  },
  {
   "cell_type": "markdown",
   "id": "3e8677b0",
   "metadata": {},
   "source": [
    "### Nominal"
   ]
  },
  {
   "cell_type": "code",
   "execution_count": 19,
   "id": "79874096",
   "metadata": {},
   "outputs": [
    {
     "data": {
      "text/html": [
       "<style>#sk-container-id-2 {color: black;background-color: white;}#sk-container-id-2 pre{padding: 0;}#sk-container-id-2 div.sk-toggleable {background-color: white;}#sk-container-id-2 label.sk-toggleable__label {cursor: pointer;display: block;width: 100%;margin-bottom: 0;padding: 0.3em;box-sizing: border-box;text-align: center;}#sk-container-id-2 label.sk-toggleable__label-arrow:before {content: \"▸\";float: left;margin-right: 0.25em;color: #696969;}#sk-container-id-2 label.sk-toggleable__label-arrow:hover:before {color: black;}#sk-container-id-2 div.sk-estimator:hover label.sk-toggleable__label-arrow:before {color: black;}#sk-container-id-2 div.sk-toggleable__content {max-height: 0;max-width: 0;overflow: hidden;text-align: left;background-color: #f0f8ff;}#sk-container-id-2 div.sk-toggleable__content pre {margin: 0.2em;color: black;border-radius: 0.25em;background-color: #f0f8ff;}#sk-container-id-2 input.sk-toggleable__control:checked~div.sk-toggleable__content {max-height: 200px;max-width: 100%;overflow: auto;}#sk-container-id-2 input.sk-toggleable__control:checked~label.sk-toggleable__label-arrow:before {content: \"▾\";}#sk-container-id-2 div.sk-estimator input.sk-toggleable__control:checked~label.sk-toggleable__label {background-color: #d4ebff;}#sk-container-id-2 div.sk-label input.sk-toggleable__control:checked~label.sk-toggleable__label {background-color: #d4ebff;}#sk-container-id-2 input.sk-hidden--visually {border: 0;clip: rect(1px 1px 1px 1px);clip: rect(1px, 1px, 1px, 1px);height: 1px;margin: -1px;overflow: hidden;padding: 0;position: absolute;width: 1px;}#sk-container-id-2 div.sk-estimator {font-family: monospace;background-color: #f0f8ff;border: 1px dotted black;border-radius: 0.25em;box-sizing: border-box;margin-bottom: 0.5em;}#sk-container-id-2 div.sk-estimator:hover {background-color: #d4ebff;}#sk-container-id-2 div.sk-parallel-item::after {content: \"\";width: 100%;border-bottom: 1px solid gray;flex-grow: 1;}#sk-container-id-2 div.sk-label:hover label.sk-toggleable__label {background-color: #d4ebff;}#sk-container-id-2 div.sk-serial::before {content: \"\";position: absolute;border-left: 1px solid gray;box-sizing: border-box;top: 0;bottom: 0;left: 50%;z-index: 0;}#sk-container-id-2 div.sk-serial {display: flex;flex-direction: column;align-items: center;background-color: white;padding-right: 0.2em;padding-left: 0.2em;position: relative;}#sk-container-id-2 div.sk-item {position: relative;z-index: 1;}#sk-container-id-2 div.sk-parallel {display: flex;align-items: stretch;justify-content: center;background-color: white;position: relative;}#sk-container-id-2 div.sk-item::before, #sk-container-id-2 div.sk-parallel-item::before {content: \"\";position: absolute;border-left: 1px solid gray;box-sizing: border-box;top: 0;bottom: 0;left: 50%;z-index: -1;}#sk-container-id-2 div.sk-parallel-item {display: flex;flex-direction: column;z-index: 1;position: relative;background-color: white;}#sk-container-id-2 div.sk-parallel-item:first-child::after {align-self: flex-end;width: 50%;}#sk-container-id-2 div.sk-parallel-item:last-child::after {align-self: flex-start;width: 50%;}#sk-container-id-2 div.sk-parallel-item:only-child::after {width: 0;}#sk-container-id-2 div.sk-dashed-wrapped {border: 1px dashed gray;margin: 0 0.4em 0.5em 0.4em;box-sizing: border-box;padding-bottom: 0.4em;background-color: white;}#sk-container-id-2 div.sk-label label {font-family: monospace;font-weight: bold;display: inline-block;line-height: 1.2em;}#sk-container-id-2 div.sk-label-container {text-align: center;}#sk-container-id-2 div.sk-container {/* jupyter's `normalize.less` sets `[hidden] { display: none; }` but bootstrap.min.css set `[hidden] { display: none !important; }` so we also need the `!important` here to be able to override the default hidden behavior on the sphinx rendered scikit-learn.org. See: https://github.com/scikit-learn/scikit-learn/issues/21755 */display: inline-block !important;position: relative;}#sk-container-id-2 div.sk-text-repr-fallback {display: none;}</style><div id=\"sk-container-id-2\" class=\"sk-top-container\"><div class=\"sk-text-repr-fallback\"><pre>Pipeline(steps=[(&#x27;simpleimputer&#x27;,\n",
       "                 SimpleImputer(fill_value=&#x27;missing&#x27;, strategy=&#x27;constant&#x27;)),\n",
       "                (&#x27;onehotencoder&#x27;,\n",
       "                 OneHotEncoder(handle_unknown=&#x27;ignore&#x27;, sparse=False))])</pre><b>In a Jupyter environment, please rerun this cell to show the HTML representation or trust the notebook. <br />On GitHub, the HTML representation is unable to render, please try loading this page with nbviewer.org.</b></div><div class=\"sk-container\" hidden><div class=\"sk-item sk-dashed-wrapped\"><div class=\"sk-label-container\"><div class=\"sk-label sk-toggleable\"><input class=\"sk-toggleable__control sk-hidden--visually\" id=\"sk-estimator-id-4\" type=\"checkbox\" ><label for=\"sk-estimator-id-4\" class=\"sk-toggleable__label sk-toggleable__label-arrow\">Pipeline</label><div class=\"sk-toggleable__content\"><pre>Pipeline(steps=[(&#x27;simpleimputer&#x27;,\n",
       "                 SimpleImputer(fill_value=&#x27;missing&#x27;, strategy=&#x27;constant&#x27;)),\n",
       "                (&#x27;onehotencoder&#x27;,\n",
       "                 OneHotEncoder(handle_unknown=&#x27;ignore&#x27;, sparse=False))])</pre></div></div></div><div class=\"sk-serial\"><div class=\"sk-item\"><div class=\"sk-estimator sk-toggleable\"><input class=\"sk-toggleable__control sk-hidden--visually\" id=\"sk-estimator-id-5\" type=\"checkbox\" ><label for=\"sk-estimator-id-5\" class=\"sk-toggleable__label sk-toggleable__label-arrow\">SimpleImputer</label><div class=\"sk-toggleable__content\"><pre>SimpleImputer(fill_value=&#x27;missing&#x27;, strategy=&#x27;constant&#x27;)</pre></div></div></div><div class=\"sk-item\"><div class=\"sk-estimator sk-toggleable\"><input class=\"sk-toggleable__control sk-hidden--visually\" id=\"sk-estimator-id-6\" type=\"checkbox\" ><label for=\"sk-estimator-id-6\" class=\"sk-toggleable__label sk-toggleable__label-arrow\">OneHotEncoder</label><div class=\"sk-toggleable__content\"><pre>OneHotEncoder(handle_unknown=&#x27;ignore&#x27;, sparse=False)</pre></div></div></div></div></div></div></div>"
      ],
      "text/plain": [
       "Pipeline(steps=[('simpleimputer',\n",
       "                 SimpleImputer(fill_value='missing', strategy='constant')),\n",
       "                ('onehotencoder',\n",
       "                 OneHotEncoder(handle_unknown='ignore', sparse=False))])"
      ]
     },
     "execution_count": 19,
     "metadata": {},
     "output_type": "execute_result"
    }
   ],
   "source": [
    "nominal_cols = X_train.select_dtypes('object').drop(columns=ord_cols).columns\n",
    "\n",
    "missing_imputer = SimpleImputer(strategy='constant', fill_value='missing')\n",
    "ohe = OneHotEncoder(sparse=False, handle_unknown='ignore')\n",
    "\n",
    "nom_pipeline = make_pipeline(missing_imputer , ohe)\n",
    "\n",
    "ohe_tuple = ('categorical',nom_pipeline, nominal_cols)\n",
    "nom_pipeline"
   ]
  },
  {
   "cell_type": "code",
   "execution_count": 20,
   "id": "849291ff",
   "metadata": {},
   "outputs": [],
   "source": [
    "preprocessor = ColumnTransformer([numeric_tuple,\n",
    "                                       ord_tuple,\n",
    "                                       ohe_tuple],\n",
    "                                       remainder='drop', verbose_feature_names_out=False)"
   ]
  },
  {
   "cell_type": "code",
   "execution_count": 21,
   "id": "a14ca7f2",
   "metadata": {},
   "outputs": [
    {
     "name": "stderr",
     "output_type": "stream",
     "text": [
      "/Users/evelynmartinez/anaconda3/envs/dojo-env/lib/python3.9/site-packages/sklearn/preprocessing/_encoders.py:868: FutureWarning: `sparse` was renamed to `sparse_output` in version 1.2 and will be removed in 1.4. `sparse_output` is ignored unless you leave `sparse` to its default value.\n",
      "  warnings.warn(\n"
     ]
    },
    {
     "data": {
      "text/html": [
       "<div>\n",
       "<style scoped>\n",
       "    .dataframe tbody tr th:only-of-type {\n",
       "        vertical-align: middle;\n",
       "    }\n",
       "\n",
       "    .dataframe tbody tr th {\n",
       "        vertical-align: top;\n",
       "    }\n",
       "\n",
       "    .dataframe thead th {\n",
       "        text-align: right;\n",
       "    }\n",
       "</style>\n",
       "<table border=\"1\" class=\"dataframe\">\n",
       "  <thead>\n",
       "    <tr style=\"text-align: right;\">\n",
       "      <th></th>\n",
       "      <th>Item_Weight</th>\n",
       "      <th>Item_Visibility</th>\n",
       "      <th>Item_MRP</th>\n",
       "      <th>Outlet_Establishment_Year</th>\n",
       "      <th>Outlet_Size</th>\n",
       "      <th>Outlet_Location_Type</th>\n",
       "      <th>Item_Fat_Content_Low Fat</th>\n",
       "      <th>Item_Fat_Content_Regular</th>\n",
       "      <th>Item_Type_Baking Goods</th>\n",
       "      <th>Item_Type_Breads</th>\n",
       "      <th>...</th>\n",
       "      <th>Item_Type_Meat</th>\n",
       "      <th>Item_Type_Others</th>\n",
       "      <th>Item_Type_Seafood</th>\n",
       "      <th>Item_Type_Snack Foods</th>\n",
       "      <th>Item_Type_Soft Drinks</th>\n",
       "      <th>Item_Type_Starchy Foods</th>\n",
       "      <th>Outlet_Type_Grocery Store</th>\n",
       "      <th>Outlet_Type_Supermarket Type1</th>\n",
       "      <th>Outlet_Type_Supermarket Type2</th>\n",
       "      <th>Outlet_Type_Supermarket Type3</th>\n",
       "    </tr>\n",
       "  </thead>\n",
       "  <tbody>\n",
       "    <tr>\n",
       "      <th>8269</th>\n",
       "      <td>7.220000</td>\n",
       "      <td>0.064142</td>\n",
       "      <td>61.2510</td>\n",
       "      <td>1998.0</td>\n",
       "      <td>1.0</td>\n",
       "      <td>2.0</td>\n",
       "      <td>0.0</td>\n",
       "      <td>1.0</td>\n",
       "      <td>1.0</td>\n",
       "      <td>0.0</td>\n",
       "      <td>...</td>\n",
       "      <td>0.0</td>\n",
       "      <td>0.0</td>\n",
       "      <td>0.0</td>\n",
       "      <td>0.0</td>\n",
       "      <td>0.0</td>\n",
       "      <td>0.0</td>\n",
       "      <td>1.0</td>\n",
       "      <td>0.0</td>\n",
       "      <td>0.0</td>\n",
       "      <td>0.0</td>\n",
       "    </tr>\n",
       "    <tr>\n",
       "      <th>7604</th>\n",
       "      <td>6.135000</td>\n",
       "      <td>0.079294</td>\n",
       "      <td>111.2860</td>\n",
       "      <td>2009.0</td>\n",
       "      <td>1.0</td>\n",
       "      <td>2.0</td>\n",
       "      <td>1.0</td>\n",
       "      <td>0.0</td>\n",
       "      <td>0.0</td>\n",
       "      <td>0.0</td>\n",
       "      <td>...</td>\n",
       "      <td>0.0</td>\n",
       "      <td>0.0</td>\n",
       "      <td>0.0</td>\n",
       "      <td>0.0</td>\n",
       "      <td>1.0</td>\n",
       "      <td>0.0</td>\n",
       "      <td>0.0</td>\n",
       "      <td>0.0</td>\n",
       "      <td>1.0</td>\n",
       "      <td>0.0</td>\n",
       "    </tr>\n",
       "    <tr>\n",
       "      <th>2762</th>\n",
       "      <td>12.150000</td>\n",
       "      <td>0.028593</td>\n",
       "      <td>151.0708</td>\n",
       "      <td>2004.0</td>\n",
       "      <td>0.0</td>\n",
       "      <td>1.0</td>\n",
       "      <td>1.0</td>\n",
       "      <td>0.0</td>\n",
       "      <td>0.0</td>\n",
       "      <td>0.0</td>\n",
       "      <td>...</td>\n",
       "      <td>0.0</td>\n",
       "      <td>0.0</td>\n",
       "      <td>0.0</td>\n",
       "      <td>0.0</td>\n",
       "      <td>0.0</td>\n",
       "      <td>0.0</td>\n",
       "      <td>0.0</td>\n",
       "      <td>1.0</td>\n",
       "      <td>0.0</td>\n",
       "      <td>0.0</td>\n",
       "    </tr>\n",
       "    <tr>\n",
       "      <th>6464</th>\n",
       "      <td>5.945000</td>\n",
       "      <td>0.093009</td>\n",
       "      <td>127.8652</td>\n",
       "      <td>2004.0</td>\n",
       "      <td>0.0</td>\n",
       "      <td>1.0</td>\n",
       "      <td>1.0</td>\n",
       "      <td>0.0</td>\n",
       "      <td>0.0</td>\n",
       "      <td>0.0</td>\n",
       "      <td>...</td>\n",
       "      <td>0.0</td>\n",
       "      <td>0.0</td>\n",
       "      <td>0.0</td>\n",
       "      <td>0.0</td>\n",
       "      <td>0.0</td>\n",
       "      <td>0.0</td>\n",
       "      <td>0.0</td>\n",
       "      <td>1.0</td>\n",
       "      <td>0.0</td>\n",
       "      <td>0.0</td>\n",
       "    </tr>\n",
       "    <tr>\n",
       "      <th>4707</th>\n",
       "      <td>18.200000</td>\n",
       "      <td>0.066285</td>\n",
       "      <td>247.2092</td>\n",
       "      <td>2004.0</td>\n",
       "      <td>0.0</td>\n",
       "      <td>1.0</td>\n",
       "      <td>0.0</td>\n",
       "      <td>1.0</td>\n",
       "      <td>0.0</td>\n",
       "      <td>0.0</td>\n",
       "      <td>...</td>\n",
       "      <td>0.0</td>\n",
       "      <td>0.0</td>\n",
       "      <td>0.0</td>\n",
       "      <td>0.0</td>\n",
       "      <td>0.0</td>\n",
       "      <td>0.0</td>\n",
       "      <td>0.0</td>\n",
       "      <td>1.0</td>\n",
       "      <td>0.0</td>\n",
       "      <td>0.0</td>\n",
       "    </tr>\n",
       "    <tr>\n",
       "      <th>...</th>\n",
       "      <td>...</td>\n",
       "      <td>...</td>\n",
       "      <td>...</td>\n",
       "      <td>...</td>\n",
       "      <td>...</td>\n",
       "      <td>...</td>\n",
       "      <td>...</td>\n",
       "      <td>...</td>\n",
       "      <td>...</td>\n",
       "      <td>...</td>\n",
       "      <td>...</td>\n",
       "      <td>...</td>\n",
       "      <td>...</td>\n",
       "      <td>...</td>\n",
       "      <td>...</td>\n",
       "      <td>...</td>\n",
       "      <td>...</td>\n",
       "      <td>...</td>\n",
       "      <td>...</td>\n",
       "      <td>...</td>\n",
       "      <td>...</td>\n",
       "    </tr>\n",
       "    <tr>\n",
       "      <th>3482</th>\n",
       "      <td>12.822634</td>\n",
       "      <td>0.012216</td>\n",
       "      <td>162.7894</td>\n",
       "      <td>1985.0</td>\n",
       "      <td>1.0</td>\n",
       "      <td>2.0</td>\n",
       "      <td>1.0</td>\n",
       "      <td>0.0</td>\n",
       "      <td>0.0</td>\n",
       "      <td>0.0</td>\n",
       "      <td>...</td>\n",
       "      <td>0.0</td>\n",
       "      <td>0.0</td>\n",
       "      <td>0.0</td>\n",
       "      <td>0.0</td>\n",
       "      <td>0.0</td>\n",
       "      <td>0.0</td>\n",
       "      <td>0.0</td>\n",
       "      <td>0.0</td>\n",
       "      <td>0.0</td>\n",
       "      <td>1.0</td>\n",
       "    </tr>\n",
       "    <tr>\n",
       "      <th>8360</th>\n",
       "      <td>11.500000</td>\n",
       "      <td>0.014884</td>\n",
       "      <td>174.5080</td>\n",
       "      <td>1999.0</td>\n",
       "      <td>1.0</td>\n",
       "      <td>0.0</td>\n",
       "      <td>1.0</td>\n",
       "      <td>0.0</td>\n",
       "      <td>0.0</td>\n",
       "      <td>0.0</td>\n",
       "      <td>...</td>\n",
       "      <td>0.0</td>\n",
       "      <td>0.0</td>\n",
       "      <td>0.0</td>\n",
       "      <td>0.0</td>\n",
       "      <td>0.0</td>\n",
       "      <td>1.0</td>\n",
       "      <td>0.0</td>\n",
       "      <td>1.0</td>\n",
       "      <td>0.0</td>\n",
       "      <td>0.0</td>\n",
       "    </tr>\n",
       "    <tr>\n",
       "      <th>5929</th>\n",
       "      <td>5.110000</td>\n",
       "      <td>0.034945</td>\n",
       "      <td>161.1210</td>\n",
       "      <td>2002.0</td>\n",
       "      <td>1.0</td>\n",
       "      <td>1.0</td>\n",
       "      <td>1.0</td>\n",
       "      <td>0.0</td>\n",
       "      <td>0.0</td>\n",
       "      <td>0.0</td>\n",
       "      <td>...</td>\n",
       "      <td>0.0</td>\n",
       "      <td>0.0</td>\n",
       "      <td>0.0</td>\n",
       "      <td>0.0</td>\n",
       "      <td>0.0</td>\n",
       "      <td>0.0</td>\n",
       "      <td>0.0</td>\n",
       "      <td>1.0</td>\n",
       "      <td>0.0</td>\n",
       "      <td>0.0</td>\n",
       "    </tr>\n",
       "    <tr>\n",
       "      <th>4220</th>\n",
       "      <td>6.550000</td>\n",
       "      <td>0.034800</td>\n",
       "      <td>157.5288</td>\n",
       "      <td>2007.0</td>\n",
       "      <td>1.0</td>\n",
       "      <td>1.0</td>\n",
       "      <td>0.0</td>\n",
       "      <td>1.0</td>\n",
       "      <td>0.0</td>\n",
       "      <td>1.0</td>\n",
       "      <td>...</td>\n",
       "      <td>0.0</td>\n",
       "      <td>0.0</td>\n",
       "      <td>0.0</td>\n",
       "      <td>0.0</td>\n",
       "      <td>0.0</td>\n",
       "      <td>0.0</td>\n",
       "      <td>0.0</td>\n",
       "      <td>1.0</td>\n",
       "      <td>0.0</td>\n",
       "      <td>0.0</td>\n",
       "    </tr>\n",
       "    <tr>\n",
       "      <th>6682</th>\n",
       "      <td>7.810000</td>\n",
       "      <td>0.067730</td>\n",
       "      <td>242.6486</td>\n",
       "      <td>2009.0</td>\n",
       "      <td>1.0</td>\n",
       "      <td>2.0</td>\n",
       "      <td>1.0</td>\n",
       "      <td>0.0</td>\n",
       "      <td>0.0</td>\n",
       "      <td>0.0</td>\n",
       "      <td>...</td>\n",
       "      <td>0.0</td>\n",
       "      <td>0.0</td>\n",
       "      <td>0.0</td>\n",
       "      <td>0.0</td>\n",
       "      <td>1.0</td>\n",
       "      <td>0.0</td>\n",
       "      <td>0.0</td>\n",
       "      <td>0.0</td>\n",
       "      <td>1.0</td>\n",
       "      <td>0.0</td>\n",
       "    </tr>\n",
       "  </tbody>\n",
       "</table>\n",
       "<p>6392 rows × 28 columns</p>\n",
       "</div>"
      ],
      "text/plain": [
       "      Item_Weight  Item_Visibility  Item_MRP  Outlet_Establishment_Year  \\\n",
       "8269     7.220000         0.064142   61.2510                     1998.0   \n",
       "7604     6.135000         0.079294  111.2860                     2009.0   \n",
       "2762    12.150000         0.028593  151.0708                     2004.0   \n",
       "6464     5.945000         0.093009  127.8652                     2004.0   \n",
       "4707    18.200000         0.066285  247.2092                     2004.0   \n",
       "...           ...              ...       ...                        ...   \n",
       "3482    12.822634         0.012216  162.7894                     1985.0   \n",
       "8360    11.500000         0.014884  174.5080                     1999.0   \n",
       "5929     5.110000         0.034945  161.1210                     2002.0   \n",
       "4220     6.550000         0.034800  157.5288                     2007.0   \n",
       "6682     7.810000         0.067730  242.6486                     2009.0   \n",
       "\n",
       "      Outlet_Size  Outlet_Location_Type  Item_Fat_Content_Low Fat  \\\n",
       "8269          1.0                   2.0                       0.0   \n",
       "7604          1.0                   2.0                       1.0   \n",
       "2762          0.0                   1.0                       1.0   \n",
       "6464          0.0                   1.0                       1.0   \n",
       "4707          0.0                   1.0                       0.0   \n",
       "...           ...                   ...                       ...   \n",
       "3482          1.0                   2.0                       1.0   \n",
       "8360          1.0                   0.0                       1.0   \n",
       "5929          1.0                   1.0                       1.0   \n",
       "4220          1.0                   1.0                       0.0   \n",
       "6682          1.0                   2.0                       1.0   \n",
       "\n",
       "      Item_Fat_Content_Regular  Item_Type_Baking Goods  Item_Type_Breads  ...  \\\n",
       "8269                       1.0                     1.0               0.0  ...   \n",
       "7604                       0.0                     0.0               0.0  ...   \n",
       "2762                       0.0                     0.0               0.0  ...   \n",
       "6464                       0.0                     0.0               0.0  ...   \n",
       "4707                       1.0                     0.0               0.0  ...   \n",
       "...                        ...                     ...               ...  ...   \n",
       "3482                       0.0                     0.0               0.0  ...   \n",
       "8360                       0.0                     0.0               0.0  ...   \n",
       "5929                       0.0                     0.0               0.0  ...   \n",
       "4220                       1.0                     0.0               1.0  ...   \n",
       "6682                       0.0                     0.0               0.0  ...   \n",
       "\n",
       "      Item_Type_Meat  Item_Type_Others  Item_Type_Seafood  \\\n",
       "8269             0.0               0.0                0.0   \n",
       "7604             0.0               0.0                0.0   \n",
       "2762             0.0               0.0                0.0   \n",
       "6464             0.0               0.0                0.0   \n",
       "4707             0.0               0.0                0.0   \n",
       "...              ...               ...                ...   \n",
       "3482             0.0               0.0                0.0   \n",
       "8360             0.0               0.0                0.0   \n",
       "5929             0.0               0.0                0.0   \n",
       "4220             0.0               0.0                0.0   \n",
       "6682             0.0               0.0                0.0   \n",
       "\n",
       "      Item_Type_Snack Foods  Item_Type_Soft Drinks  Item_Type_Starchy Foods  \\\n",
       "8269                    0.0                    0.0                      0.0   \n",
       "7604                    0.0                    1.0                      0.0   \n",
       "2762                    0.0                    0.0                      0.0   \n",
       "6464                    0.0                    0.0                      0.0   \n",
       "4707                    0.0                    0.0                      0.0   \n",
       "...                     ...                    ...                      ...   \n",
       "3482                    0.0                    0.0                      0.0   \n",
       "8360                    0.0                    0.0                      1.0   \n",
       "5929                    0.0                    0.0                      0.0   \n",
       "4220                    0.0                    0.0                      0.0   \n",
       "6682                    0.0                    1.0                      0.0   \n",
       "\n",
       "      Outlet_Type_Grocery Store  Outlet_Type_Supermarket Type1  \\\n",
       "8269                        1.0                            0.0   \n",
       "7604                        0.0                            0.0   \n",
       "2762                        0.0                            1.0   \n",
       "6464                        0.0                            1.0   \n",
       "4707                        0.0                            1.0   \n",
       "...                         ...                            ...   \n",
       "3482                        0.0                            0.0   \n",
       "8360                        0.0                            1.0   \n",
       "5929                        0.0                            1.0   \n",
       "4220                        0.0                            1.0   \n",
       "6682                        0.0                            0.0   \n",
       "\n",
       "      Outlet_Type_Supermarket Type2  Outlet_Type_Supermarket Type3  \n",
       "8269                            0.0                            0.0  \n",
       "7604                            1.0                            0.0  \n",
       "2762                            0.0                            0.0  \n",
       "6464                            0.0                            0.0  \n",
       "4707                            0.0                            0.0  \n",
       "...                             ...                            ...  \n",
       "3482                            0.0                            1.0  \n",
       "8360                            0.0                            0.0  \n",
       "5929                            0.0                            0.0  \n",
       "4220                            0.0                            0.0  \n",
       "6682                            1.0                            0.0  \n",
       "\n",
       "[6392 rows x 28 columns]"
      ]
     },
     "metadata": {},
     "output_type": "display_data"
    }
   ],
   "source": [
    "preprocessor.fit(X_train)\n",
    "X_train_df = pd.DataFrame(preprocessor.transform(X_train),\n",
    "                         columns=preprocessor.get_feature_names_out(),\n",
    "                          index=X_train.index)\n",
    "X_test_df = pd.DataFrame(preprocessor.transform(X_test),\n",
    "                        columns=preprocessor.get_feature_names_out(),\n",
    "                        index=X_test.index)\n",
    "display(X_train_df)"
   ]
  },
  {
   "cell_type": "markdown",
   "id": "d90a655a",
   "metadata": {},
   "source": [
    "## Regression Model"
   ]
  },
  {
   "cell_type": "code",
   "execution_count": 22,
   "id": "633fe7da",
   "metadata": {},
   "outputs": [
    {
     "data": {
      "text/html": [
       "<style type=\"text/css\">\n",
       "</style>\n",
       "<table id=\"T_af565\">\n",
       "  <thead>\n",
       "    <tr>\n",
       "      <th id=\"T_af565_level0_col0\" class=\"col_heading level0 col0\" >Split</th>\n",
       "      <th id=\"T_af565_level0_col1\" class=\"col_heading level0 col1\" >R^2</th>\n",
       "      <th id=\"T_af565_level0_col2\" class=\"col_heading level0 col2\" >MAE</th>\n",
       "      <th id=\"T_af565_level0_col3\" class=\"col_heading level0 col3\" >RMSE</th>\n",
       "    </tr>\n",
       "  </thead>\n",
       "  <tbody>\n",
       "    <tr>\n",
       "      <td id=\"T_af565_row0_col0\" class=\"data row0 col0\" >Train</td>\n",
       "      <td id=\"T_af565_row0_col1\" class=\"data row0 col1\" >0.56</td>\n",
       "      <td id=\"T_af565_row0_col2\" class=\"data row0 col2\" >827.45</td>\n",
       "      <td id=\"T_af565_row0_col3\" class=\"data row0 col3\" >1,116.54</td>\n",
       "    </tr>\n",
       "    <tr>\n",
       "      <td id=\"T_af565_row1_col0\" class=\"data row1 col0\" >Test</td>\n",
       "      <td id=\"T_af565_row1_col1\" class=\"data row1 col1\" >0.56</td>\n",
       "      <td id=\"T_af565_row1_col2\" class=\"data row1 col2\" >860.34</td>\n",
       "      <td id=\"T_af565_row1_col3\" class=\"data row1 col3\" >1,165.20</td>\n",
       "    </tr>\n",
       "  </tbody>\n",
       "</table>\n"
      ],
      "text/plain": [
       "<pandas.io.formats.style.Styler at 0x10aafcf40>"
      ]
     },
     "metadata": {},
     "output_type": "display_data"
    }
   ],
   "source": [
    "#Linear Regression Model\n",
    "lin_reg = LinearRegression()\n",
    "\n",
    "#Model pipeline\n",
    "lin_reg.fit(X_train_df,y_train)\n",
    "evaluate_regression(lin_reg, X_train_df, y_train,\n",
    "                   X_test_df, y_test)"
   ]
  },
  {
   "cell_type": "markdown",
   "id": "b6a2dbb2",
   "metadata": {},
   "source": [
    "### Coefficients"
   ]
  },
  {
   "cell_type": "code",
   "execution_count": 23,
   "id": "be3f0640",
   "metadata": {},
   "outputs": [],
   "source": [
    "#FUNCTION\n",
    "\n",
    "def get_coefficients(lin_reg):\n",
    "    coeffs = pd.Series(lin_reg.coef_, index= lin_reg.feature_names_in_)\n",
    "    coeffs.loc['intercept'] = lin_reg.intercept_\n",
    "    return coeffs"
   ]
  },
  {
   "cell_type": "code",
   "execution_count": 24,
   "id": "63e4e54f",
   "metadata": {},
   "outputs": [],
   "source": [
    "def plot_coeffs(coeffs, top_n=None,  figsize=(4,5), intercept=False):\n",
    "    if (intercept==False) & ('intercept' in coeffs.index):\n",
    "        coeffs = coeffs.drop('intercept')\n",
    "        \n",
    "    if top_n==None:\n",
    "        ## sort all features and set title\n",
    "        plot_vals = coeffs.sort_values()\n",
    "        title = \"All Coefficients - Ranked by Magnitude\"\n",
    "    else:\n",
    "        ## rank the coeffs and select the top_n\n",
    "        coeff_rank = coeffs.abs().rank().sort_values(ascending=False)\n",
    "        top_n_features = coeff_rank.head(top_n)\n",
    "        plot_vals = coeffs.loc[top_n_features.index].sort_values()\n",
    "        ## sort features and keep top_n and set title\n",
    "        title = f\"Top {top_n} Largest Coefficients\"\n",
    "        \n",
    "    ## plotting top N importances\n",
    "    ax = plot_vals.plot(kind='barh', figsize=figsize)\n",
    "    ax.set(xlabel='Coefficient', \n",
    "           ylabel='Feature Names', \n",
    "           title=title)\n",
    "    ax.axvline(0, color='k')\n",
    "    \n",
    "    ## return ax in case want to continue to update/modify figure\n",
    "    return ax"
   ]
  },
  {
   "cell_type": "code",
   "execution_count": 25,
   "id": "139c82bd",
   "metadata": {},
   "outputs": [],
   "source": [
    "pd.set_option('display.float_format',lambda x: f\"{x:,.4f}\")\n",
    "pd.set_option('display.max_rows', None)"
   ]
  },
  {
   "cell_type": "code",
   "execution_count": 26,
   "id": "15ff58f8",
   "metadata": {},
   "outputs": [
    {
     "data": {
      "text/plain": [
       "Outlet_Type_Grocery Store         -1,712.5447\n",
       "intercept                         -1,480.9384\n",
       "Item_Visibility                     -266.4290\n",
       "Item_Type_Soft Drinks               -116.8081\n",
       "Outlet_Type_Supermarket Type2       -112.2307\n",
       "Item_Type_Household                  -69.9817\n",
       "Item_Type_Dairy                      -47.7869\n",
       "Item_Type_Health and Hygiene         -39.7153\n",
       "Outlet_Size                          -27.0351\n",
       "Item_Fat_Content_Low Fat             -15.3595\n",
       "Item_Type_Meat                       -12.3296\n",
       "Item_Type_Snack Foods                 -8.0487\n",
       "Item_Type_Breads                      -6.7073\n",
       "Item_Type_Frozen Foods                -2.7519\n",
       "Outlet_Establishment_Year              0.6914\n",
       "Item_Weight                            1.3132\n",
       "Item_Type_Baking Goods                 8.8573\n",
       "Item_Fat_Content_Regular              15.3595\n",
       "Item_Type_Fruits and Vegetables       15.5665\n",
       "Item_MRP                              15.5989\n",
       "Item_Type_Others                      16.2572\n",
       "Outlet_Location_Type                  18.5928\n",
       "Item_Type_Canned                      23.7588\n",
       "Item_Type_Starchy Foods               27.2567\n",
       "Item_Type_Hard Drinks                 46.3627\n",
       "Item_Type_Breakfast                   70.4896\n",
       "Item_Type_Seafood                     95.5808\n",
       "Outlet_Type_Supermarket Type1        234.2473\n",
       "Outlet_Type_Supermarket Type3      1,590.5281\n",
       "dtype: float64"
      ]
     },
     "execution_count": 26,
     "metadata": {},
     "output_type": "execute_result"
    }
   ],
   "source": [
    "coeffs = get_coefficients(lin_reg)\n",
    "coeffs.sort_values()"
   ]
  },
  {
   "cell_type": "code",
   "execution_count": 27,
   "id": "1e7cc7da",
   "metadata": {},
   "outputs": [
    {
     "data": {
      "text/html": [
       "<style type=\"text/css\">\n",
       "</style>\n",
       "<table id=\"T_ee82f\">\n",
       "  <thead>\n",
       "    <tr>\n",
       "      <th id=\"T_ee82f_level0_col0\" class=\"col_heading level0 col0\" >Split</th>\n",
       "      <th id=\"T_ee82f_level0_col1\" class=\"col_heading level0 col1\" >R^2</th>\n",
       "      <th id=\"T_ee82f_level0_col2\" class=\"col_heading level0 col2\" >MAE</th>\n",
       "      <th id=\"T_ee82f_level0_col3\" class=\"col_heading level0 col3\" >RMSE</th>\n",
       "    </tr>\n",
       "  </thead>\n",
       "  <tbody>\n",
       "    <tr>\n",
       "      <td id=\"T_ee82f_row0_col0\" class=\"data row0 col0\" >Train</td>\n",
       "      <td id=\"T_ee82f_row0_col1\" class=\"data row0 col1\" >0.56</td>\n",
       "      <td id=\"T_ee82f_row0_col2\" class=\"data row0 col2\" >827.45</td>\n",
       "      <td id=\"T_ee82f_row0_col3\" class=\"data row0 col3\" >1,116.54</td>\n",
       "    </tr>\n",
       "    <tr>\n",
       "      <td id=\"T_ee82f_row1_col0\" class=\"data row1 col0\" >Test</td>\n",
       "      <td id=\"T_ee82f_row1_col1\" class=\"data row1 col1\" >0.56</td>\n",
       "      <td id=\"T_ee82f_row1_col2\" class=\"data row1 col2\" >860.34</td>\n",
       "      <td id=\"T_ee82f_row1_col3\" class=\"data row1 col3\" >1,165.20</td>\n",
       "    </tr>\n",
       "  </tbody>\n",
       "</table>\n"
      ],
      "text/plain": [
       "<pandas.io.formats.style.Styler at 0x10ab0ec70>"
      ]
     },
     "metadata": {},
     "output_type": "display_data"
    }
   ],
   "source": [
    "lin_reg_drop = LinearRegression(fit_intercept=False)\n",
    "lin_reg_drop.fit(X_train_df,y_train)\n",
    "evaluate_regression(lin_reg_drop, X_train_df, y_train, \n",
    "                    X_test_df, y_test)"
   ]
  },
  {
   "cell_type": "code",
   "execution_count": 28,
   "id": "2522e06a",
   "metadata": {},
   "outputs": [
    {
     "data": {
      "image/png": "[encoded data removed]",
      "text/plain": [
       "<Figure size 400x500 with 1 Axes>"
      ]
     },
     "metadata": {},
     "output_type": "display_data"
    }
   ],
   "source": [
    "ax= plot_coeffs(coeffs,top_n=15, intercept=True)\n"
   ]
  },
  {
   "attachments": {},
   "cell_type": "markdown",
   "id": "fe1a0846",
   "metadata": {},
   "source": [
    "- **The top three most important coefficients are:**\n",
    "\n",
    "- Outlet_Type_Supermarket_Type3: The model shows that Supermarket Type 3 significantly impacts sales compared to other store types. It suggests around 1,590 more units sold in this kind of supermarket compared to the rest.\n",
    "\n",
    "- Outlet_Type_Supermarket_Type1: Similarly, Supermarket Type 1 also has a positive effect on sales, with around 234 more units sold compared to other types of supermarkets in the dataset.\n",
    "\n",
    "- Item_Type_Seafood: The model indicates that 'Seafood' items sell about 95\n",
    "more units compared to other types of food items.\n"
   ]
  },
  {
   "cell_type": "markdown",
   "id": "a3e96209",
   "metadata": {},
   "source": [
    "## Random Forest "
   ]
  },
  {
   "cell_type": "code",
   "execution_count": 29,
   "id": "5f4f2a67",
   "metadata": {},
   "outputs": [
    {
     "data": {
      "text/html": [
       "<style type=\"text/css\">\n",
       "</style>\n",
       "<table id=\"T_a0fa4\">\n",
       "  <thead>\n",
       "    <tr>\n",
       "      <th id=\"T_a0fa4_level0_col0\" class=\"col_heading level0 col0\" >Split</th>\n",
       "      <th id=\"T_a0fa4_level0_col1\" class=\"col_heading level0 col1\" >R^2</th>\n",
       "      <th id=\"T_a0fa4_level0_col2\" class=\"col_heading level0 col2\" >MAE</th>\n",
       "      <th id=\"T_a0fa4_level0_col3\" class=\"col_heading level0 col3\" >RMSE</th>\n",
       "    </tr>\n",
       "  </thead>\n",
       "  <tbody>\n",
       "    <tr>\n",
       "      <td id=\"T_a0fa4_row0_col0\" class=\"data row0 col0\" >Train</td>\n",
       "      <td id=\"T_a0fa4_row0_col1\" class=\"data row0 col1\" >0.94</td>\n",
       "      <td id=\"T_a0fa4_row0_col2\" class=\"data row0 col2\" >294.93</td>\n",
       "      <td id=\"T_a0fa4_row0_col3\" class=\"data row0 col3\" >427.54</td>\n",
       "    </tr>\n",
       "    <tr>\n",
       "      <td id=\"T_a0fa4_row1_col0\" class=\"data row1 col0\" >Test</td>\n",
       "      <td id=\"T_a0fa4_row1_col1\" class=\"data row1 col1\" >0.56</td>\n",
       "      <td id=\"T_a0fa4_row1_col2\" class=\"data row1 col2\" >819.11</td>\n",
       "      <td id=\"T_a0fa4_row1_col3\" class=\"data row1 col3\" >1,168.62</td>\n",
       "    </tr>\n",
       "  </tbody>\n",
       "</table>\n"
      ],
      "text/plain": [
       "<pandas.io.formats.style.Styler at 0x141874b50>"
      ]
     },
     "metadata": {},
     "output_type": "display_data"
    }
   ],
   "source": [
    "rf_reg = RandomForestRegressor()\n",
    "rf_reg.fit(X_train_df,y_train)\n",
    "evaluate_regression(rf_reg, X_train_df, y_train, X_test_df, y_test)"
   ]
  },
  {
   "cell_type": "code",
   "execution_count": 30,
   "id": "5c230503",
   "metadata": {},
   "outputs": [
    {
     "data": {
      "text/plain": [
       "Item_MRP                          0.4489\n",
       "Outlet_Type_Grocery Store         0.1968\n",
       "Item_Visibility                   0.1012\n",
       "Outlet_Type_Supermarket Type3     0.0538\n",
       "Item_Weight                       0.0534\n",
       "Outlet_Establishment_Year         0.0424\n",
       "Outlet_Size                       0.0103\n",
       "Outlet_Location_Type              0.0095\n",
       "Item_Type_Fruits and Vegetables   0.0083\n",
       "Item_Type_Snack Foods             0.0081\n",
       "Item_Type_Household               0.0063\n",
       "Item_Type_Frozen Foods            0.0058\n",
       "Item_Type_Dairy                   0.0056\n",
       "Item_Fat_Content_Low Fat          0.0049\n",
       "Item_Fat_Content_Regular          0.0049\n",
       "Item_Type_Baking Goods            0.0045\n",
       "Item_Type_Health and Hygiene      0.0044\n",
       "Item_Type_Canned                  0.0043\n",
       "Item_Type_Soft Drinks             0.0042\n",
       "Item_Type_Meat                    0.0037\n",
       "Item_Type_Breads                  0.0030\n",
       "Item_Type_Hard Drinks             0.0029\n",
       "Item_Type_Starchy Foods           0.0029\n",
       "Outlet_Type_Supermarket Type1     0.0026\n",
       "Item_Type_Breakfast               0.0024\n",
       "Outlet_Type_Supermarket Type2     0.0019\n",
       "Item_Type_Others                  0.0016\n",
       "Item_Type_Seafood                 0.0014\n",
       "dtype: float64"
      ]
     },
     "execution_count": 30,
     "metadata": {},
     "output_type": "execute_result"
    }
   ],
   "source": [
    "import_coeff = pd.Series(rf_reg.feature_importances_, index= rf_reg.feature_names_in_)\n",
    "import_coeff.sort_values(ascending=False)"
   ]
  },
  {
   "cell_type": "code",
   "execution_count": 31,
   "id": "e585b17e",
   "metadata": {},
   "outputs": [
    {
     "data": {
      "image/png": "[encoded data removed]",
      "text/plain": [
       "<Figure size 640x480 with 1 Axes>"
      ]
     },
     "metadata": {},
     "output_type": "display_data"
    }
   ],
   "source": [
    "ax = import_coeff.sort_values().tail(20).plot(kind='barh')#,figsize=(6,4))\n",
    "ax.axvline(0, color='k')\n",
    "ax.set(title='Feature Importance - Decision Tree Regressor',ylabel=\"Feature Name\",\n",
    "      xlabel='Importance');"
   ]
  },
  {
   "cell_type": "markdown",
   "id": "2ea5756b",
   "metadata": {},
   "source": [
    "- The top 5 most important features are Item MRP, Grocery Outlet Type, Item Visibility, Item Weight, and \n",
    "Supermarket Outlet Type."
   ]
  },
  {
   "cell_type": "markdown",
   "id": "9c04ac7e",
   "metadata": {},
   "source": [
    "## Serialize Best Models with Joblib"
   ]
  },
  {
   "cell_type": "code",
   "execution_count": 32,
   "id": "b2691d94",
   "metadata": {},
   "outputs": [],
   "source": [
    "import joblib, os\n",
    "\n",
    "# creating a dictionary of all of the variables to save for later\n",
    "export = {'X_train':X_train,\n",
    "         'y_train':y_train,\n",
    "         'X_test':X_test,\n",
    "         'y_test':y_test,\n",
    "          'preprocessor':preprocessor,\n",
    "         'LinearRegression': lin_reg,\n",
    "          'RandomForestRegressor':rf_reg}"
   ]
  },
  {
   "cell_type": "code",
   "execution_count": 33,
   "id": "16ef5ecb",
   "metadata": {},
   "outputs": [
    {
     "name": "stdout",
     "output_type": "stream",
     "text": [
      "['Best-Models.joblib']\n"
     ]
    }
   ],
   "source": [
    "import os\n",
    "os.makedirs('Models/', exist_ok=True)\n",
    "print(os.listdir(\"Models/\"))\n",
    "\n",
    "folder = 'Models/'\n",
    "os.makedirs(folder, exist_ok=True)\n"
   ]
  },
  {
   "cell_type": "code",
   "execution_count": 34,
   "id": "3be2c80b",
   "metadata": {},
   "outputs": [
    {
     "data": {
      "text/plain": [
       "['Models/Best-Models.joblib']"
      ]
     },
     "execution_count": 34,
     "metadata": {},
     "output_type": "execute_result"
    }
   ],
   "source": [
    "fname = folder+'Best-Models.joblib'\n",
    "joblib.dump(export, fname)"
   ]
  },
  {
   "cell_type": "code",
   "execution_count": null,
   "id": "c4c21471",
   "metadata": {},
   "outputs": [],
   "source": []
  }
 ],
 "metadata": {
  "kernelspec": {
   "display_name": "Python (dojo-env)",
   "language": "python",
   "name": "dojo-env"
  },
  "language_info": {
   "codemirror_mode": {
    "name": "ipython",
    "version": 3
   },
   "file_extension": ".py",
   "mimetype": "text/x-python",
   "name": "python",
   "nbconvert_exporter": "python",
   "pygments_lexer": "ipython3",
   "version": "3.9.15"
  },
  "toc": {
   "base_numbering": "",
   "nav_menu": {},
   "number_sections": false,
   "sideBar": true,
   "skip_h1_title": false,
   "title_cell": "Table of Contents",
   "title_sidebar": "Contents",
   "toc_cell": false,
   "toc_position": {
    "height": "calc(100% - 180px)",
    "left": "10px",
    "top": "150px",
    "width": "201px"
   },
   "toc_section_display": true,
   "toc_window_display": true
  }
 },
 "nbformat": 4,
 "nbformat_minor": 5
}
